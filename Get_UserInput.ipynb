{
  "nbformat": 4,
  "nbformat_minor": 0,
  "metadata": {
    "colab": {
      "name": "Get_UserInput.ipynb",
      "provenance": [],
      "collapsed_sections": []
    },
    "kernelspec": {
      "name": "python3",
      "display_name": "Python 3"
    },
    "language_info": {
      "name": "python"
    }
  },
  "cells": [
    {
      "cell_type": "code",
      "source": [
        "## Package Needed\n",
        "import numpy as np\n",
        "from scipy import signal\n",
        "from matplotlib import pyplot as plt \n",
        "import scipy\n",
        "from scipy.signal import savgol_filter"
      ],
      "metadata": {
        "id": "oVrZhmbSLHjz"
      },
      "execution_count": 4,
      "outputs": []
    },
    {
      "cell_type": "markdown",
      "source": [
        "**INPUT:** \n",
        "\n",
        "**data:** 4 x Timeseries Location data. data_t: Thrust Location data; data_p: Pitch Location data; data_y: Yaw Location data.\n",
        "\n",
        "**window_size:** I think 51 - 201 is a good number for this particular time seriesThe length of the filter window (i.e., the number of coefficients). window_length must be a positive odd integer. If mode is ‘interp’, window_length must be less than or equal to the size of x.\n",
        "\n",
        "**factor_noisefloor:** The number of standard deviation you set for calculating the noise floor. I normally set it to 1\n",
        "\n",
        "\n",
        "**OUTPUT:**\n",
        "\n",
        "**input_t:** Thrust Input\n",
        "\n",
        "**input_y:** Yaw Input\n",
        "\n",
        "**input_p:** Pitch Input"
      ],
      "metadata": {
        "id": "96W6SfPsLIwK"
      }
    },
    {
      "cell_type": "code",
      "source": [
        "def get_thrustinput(data_t,window_size,factor_noisefloor):\n",
        "\n",
        "  diff_fs = np.diff(data_t[0]);\n",
        "  # Step1: Getting speed for Thrust Player's movement \n",
        "  for i in range(len(diff_fs)):\n",
        "    if diff_fs[i] < - 1000:\n",
        "        diff_fs[i]=100\n",
        "    elif diff_fs[i] > 500:\n",
        "        diff_fs[i]=100\n",
        "      \n",
        "  # Step2: Filter speed data\n",
        "  filt_fs = np.round(scipy.signal.savgol_filter(diff_fs, window_size, 2, mode='nearest'));\n",
        "  \n",
        "  # Step4: Get the accelearation\n",
        "  acc_fs = np.diff(filt_fs)\n",
        "\n",
        "  # Step5: calulate noise floor \n",
        "  nonzero_fs = np.nonzero(acc_fs)\n",
        "  diff_fs_val = acc_fs[nonzero_fs]\n",
        "  diff_fs_mean = np.mean(diff_fs_val)\n",
        "  diff_fs_std = np.std(acc_fs[nonzero_fs])\n",
        "    \n",
        "  # Step6: get speed input\n",
        "  input_t = np.zeros(len(diff_fs))\n",
        "  for i in range(len(diff_fs)-1):\n",
        "    if acc_fs[i] < -1* (diff_fs_mean+diff_fs_std*factor_noisefloor):\n",
        "      input_t[i] = -1\n",
        "    elif acc_fs[i] > (diff_fs_mean+diff_fs_std*factor_noisefloor):\n",
        "      input_t[i] = 1\n",
        "    else:\n",
        "      input_t[i] = 0\n",
        "  return input_t"
      ],
      "metadata": {
        "id": "0iareuyjSoDo"
      },
      "execution_count": 5,
      "outputs": []
    },
    {
      "cell_type": "code",
      "source": [
        "def get_pitchinput(data_p,window_size,factor_noisefloor):\n",
        "\n",
        "  # Step1 Pitch Data Cleaning \n",
        "  data_p[1]=data_p[1]-1000000\n",
        "  for i in range(len(data_p[1])):\n",
        "    if data_p[1][i] < -5000:\n",
        "      data_p[1][i]=0\n",
        "\n",
        "  # Step2 Apply Filters \n",
        "  f_lr = np.round(scipy.signal.savgol_filter(data_p[1], window_size, 2, mode='nearest'));\n",
        "\n",
        "  # Step3 Take The Derivative\n",
        "  diff_lr = np.diff(f_lr)\n",
        "\n",
        "  # Step4: calulate noise floor \n",
        "  nonzero_lr = np.nonzero(diff_lr)\n",
        "  diff_lr_val = diff_lr[nonzero_lr]\n",
        "  diff_lr_mean = np.mean(diff_lr_val)\n",
        "  diff_lr_std = np.std(diff_lr[nonzero_lr])\n",
        "\n",
        "  # Step5: Retrieve Player Output\n",
        "  input_p = np.zeros(len(diff_lr))\n",
        "  for i in range(len(diff_lr)-1):\n",
        "    if diff_lr[i] < -1*(diff_lr_mean+diff_lr_std*factor_noisefloor):\n",
        "      input_p[i] = -1\n",
        "    elif diff_lr[i] > (diff_lr_mean+diff_lr_std*factor_noisefloor):\n",
        "      input_p[i] = 1\n",
        "    else:\n",
        "      input_p[i] = 0\n",
        "    \n",
        "  return input_p\n",
        "\n",
        "  "
      ],
      "metadata": {
        "id": "jU2du2RILB-c"
      },
      "execution_count": 6,
      "outputs": []
    },
    {
      "cell_type": "code",
      "source": [
        "def get_yawinput(data_y,window_size,factor_noisefloor):\n",
        "  \n",
        "  # Step1 Apply Filters to Yaw Data \n",
        "  f_ud = np.round(scipy.signal.savgol_filter(data_y[2], window_size, 2, mode='nearest'));\n",
        "\n",
        "  # Step2 Take The Derivative Of Yaw data\n",
        "  diff_ud = np.diff(f_ud)\n",
        "\n",
        "  # Step3: Calulate noise floor \n",
        "\n",
        "  nonzero_ud = np.nonzero(diff_ud)\n",
        "  diff_ud_val = diff_ud[nonzero_ud]\n",
        "  diff_ud_mean = np.mean(diff_ud_val)\n",
        "  diff_ud_std = np.std(diff_ud[nonzero_ud])\n",
        "\n",
        "  # Step4: Retrieve Player Output\n",
        "  input_y = np.zeros(len(diff_ud))\n",
        "  for i in range(len(diff_ud)-1):\n",
        "    if diff_ud[i] < -1* (diff_ud_mean+diff_ud_std*factor_noisefloor):\n",
        "      input_y[i] = -1\n",
        "    elif diff_ud[i] > (diff_ud_mean+diff_ud_std*factor_noisefloor):\n",
        "      input_y[i] = 1\n",
        "    else:\n",
        "      input_y[i] = 0\n",
        "  return input_y\n"
      ],
      "metadata": {
        "id": "sUNLYSByRTxJ"
      },
      "execution_count": 7,
      "outputs": []
    }
  ]
}